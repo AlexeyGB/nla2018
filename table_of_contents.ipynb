{
 "cells": [
  {
   "cell_type": "markdown",
   "metadata": {},
   "source": [
    "# Table of contents"
   ]
  },
  {
   "cell_type": "markdown",
   "metadata": {},
   "source": [
    "**Course instructor: **\n",
    "Ivan Oseledets\n",
    "\n",
    "** TAs:**\n",
    "- Marina Mukhoeva\n",
    "- Aleksandr Katrutsa\n",
    "- Daniil Merkulov\n",
    "- Valentin Khrulkov\n",
    "- Talgat Daulbaev\n",
    "- Vitaly Zankin\n",
    "- Gleb Karpov\n",
    "- Leyla Mirvakhabova"
   ]
  },
  {
   "cell_type": "markdown",
   "metadata": {},
   "source": [
    "| Week | Lecture notebooks | Supplementary materials | Homework | Tests |\n",
    "|:------:|:----------|:----------|:----------|-------|\n",
    "|1| General info [[GitHub](lectures/general_info.ipynb), [Nbviewer](https://nbviewer.jupyter.org/github/oseledets/nla2018/blob/master/lectures/general_info.ipynb)]  <br> Lecture 1 Floating-point arithmetic, vector norms [[GitHub](lectures/lecture-1.ipynb), [Nbviewer](https://nbviewer.jupyter.org/github/oseledets/nla2018/blob/master/lectures/general_info.ipynb)] | | [Requirements](hw.pdf) <br> | | "
   ]
  }
 ],
 "metadata": {
  "anaconda-cloud": {},
  "kernelspec": {
   "display_name": "Python 3",
   "language": "python",
   "name": "python3"
  },
  "language_info": {
   "codemirror_mode": {
    "name": "ipython",
    "version": 3
   },
   "file_extension": ".py",
   "mimetype": "text/x-python",
   "name": "python",
   "nbconvert_exporter": "python",
   "pygments_lexer": "ipython3",
   "version": "3.6.5"
  },
  "nav_menu": {},
  "toc": {
   "navigate_menu": true,
   "number_sections": true,
   "sideBar": true,
   "threshold": 6,
   "toc_cell": false,
   "toc_section_display": "block",
   "toc_window_display": false
  }
 },
 "nbformat": 4,
 "nbformat_minor": 1
}
